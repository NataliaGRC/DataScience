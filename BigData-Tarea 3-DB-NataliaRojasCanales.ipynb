{
 "cells": [
  {
   "cell_type": "markdown",
   "metadata": {},
   "source": [
    "![logo](logo.png \"Logo\")\n",
    "\n",
    "# Módulo 4 - Big Data\n",
    "\n",
    "Autor: Juan Esquivel"
   ]
  },
  {
   "cell_type": "markdown",
   "metadata": {},
   "source": [
    "# Objetivos\n",
    "\n",
    "## General\n",
    "Entender y aplicar técnicas de análisis de grandes cantidades de datos para la resolución de problemas concretos a través de tecnologías de manipulación, extracción y sintetización estadística.\n",
    "\n",
    "## Específicos\n",
    "- Aplicar bibliotecas para la transformación de datos a gran escala para poder sintetizar el conocimiento para futuro análisis.\n",
    "- Aplicar técnicas de análisis de datos para extraer patrones que mejoren el entendimiento de un problema concreto.\n",
    "- Aplicar técnicas para aprendizaje automatizado de patrones, basado en datos existentes, para mejorar la certeza de la solución aplicada a problemas concretos.\n",
    "\n",
    "\n",
    "# Contenidos\n",
    "\n",
    "- Introducción a procesamiento a gran escala\n",
    "- Fuentes y repositorios de datos\n",
    "- Procesamiento de fuentes (data frames)\n",
    "- Procesamiento de atributos\n",
    "- Organización de datos procesados\n",
    "- Análisis de datos a gran escala\n",
    "- Uso de modelos de aprendizaje automático a gran escala\n",
    "\n",
    "# Evaluación\n",
    "\n",
    "- Tareas Cortas 70%\n",
    "- Proyecto 30%"
   ]
  },
  {
   "cell_type": "markdown",
   "metadata": {},
   "source": [
    "# Procesamiento de datos a gran escala\n",
    "Hoy día es relativamente sencillo tener cantidades muy considerables de datos en una organización, sin tan siquiera darse cuenta. El almacenamiento, local o en la nube, ha llegado a un punto que nos permite simplemente almacenar más y más datos sin tener que preocuparse por costos de almacenamiento. Cualquier sistema de ventas, por ejemplo, almacena información diaria sobre clientes, transacciones, tiendas, productos, etc. Después de un par de años de acumular datos, un programa que *funcionaba bien* de pronto empieza a sufrir efectos de degradación de servicio, debido al crecimiento orgánico de los datos.\n",
    "\n",
    "Aún más, es más común que no sea factible tener todos los datos relacionados a un problema en una sola máquina física. Por ello, es necesario particionar los datos y distribuirlos en granjas de servidores de almacenamiento. Algunas definiciones colocan la línea limítrofe de Big Data utilizando esa barrera de almacenamiento distribuído.\n",
    "\n",
    "## Lectura y transformación de datos a gran escala\n",
    "El mayor tamaño de las fuentes de datos requiere que, para obtener información estratégica, se deba implementar elementos de software que permitan procesar y resumir los datos. Normalmente se refiere a ésto como *ETL: Extract, Transform and Load*.\n",
    "\n",
    "Primero, los datos deben *Extraerse* de las fuentes. Después, deben ser *Transformados*, ya sea para crear datos más complejos o ajustar para que sea compatible con el destino. Por último, los datos deben ser *Cargados* a un medio donde serán consumidos por los usuarios.\n",
    "\n",
    "A lo largo de la última década, la necesidad de administrar procesos *ETL* a gran escala se ha convertido en un imperativo para un científico de datos. Esto se realiza, comúnmente, utilizando *frameworks* de alta escalabilidad basados en un modelo de programación llamado *MapReduce*. En esencia, la idea es no pensar sobre los datos como conjuntos enormes de información, sino reducir las operaciones a qué debe realizarse \"fila por fila\". Queremos aplicar operaciones individuales a cada elemento, independiente de cualquier otro en la colección (al menos en teoría). Las operaciones que modifican cada elemento se llaman funciones *map*. Adicionalmente, podemos generar operaciones que sinteticen múltiples elementos que corresponden a la misma entidad reducidendólos a un solo elemento (*reduce*). Plataformas modernas ya no se apegan al espíritu exacto de *MapReduce*, sin embargo, las ideas básicas se mantienen igual.\n",
    "\n",
    "En las siguiente sección introducimos los conceptos clásicos de *MapReduce*. Posteriormente, realizaremos una introducción práctica a frameworks contemporáneos. En este módulo utilizaremos Apache Spark para mostrar los conceptos básicos de este tipo de procesamiento. "
   ]
  },
  {
   "cell_type": "markdown",
   "metadata": {},
   "source": [
    "# Motivación MapReduce\n",
    "El problema resuelto por *MapReduce* se ilustra con el ejemplo clásico de la frecuencia de palabras en una colección abundante de texto. Si tenemos un corpus compuesto por millones de libros de texto, podríamos pensar en un algoritmo de fuerza bruta que representa cada libro como un arreglo de tipo `string`:\n",
    "```\n",
    "func count(words []string) {\n",
    "  var counts map[string]int\n",
    "  \n",
    "  for _, word:=range words {\n",
    "    counts[word] += 1\n",
    "  }\n",
    "  printSorted(counts)\n",
    "}\n",
    "```\n",
    "\n",
    "En Go el anterior ejemplo puede alcanzar órdenes de magnitudes de centenas de millones, convirtiéndose la memoria en el cuello de botella primario. Es posible que el procesamiento no requiera todas las palabras en memoria, utilizando canales de transmisión (`channel` en Go). Sin embargo, cuando todas las palabras son únicas aún tenemos problemas.\n",
    "\n",
    "Si dejamos los linderos de una máquina individual y asumimos que tenemos, por ejemplo, 10 núcleos de procesamiento. Podríamos dividir el total de los datos en 10 partes, cada núcleo puede generar conteos para cada segmento de datos y, posteriormente, lo envía a un controlador. El controlador procedería a integrar todos los conteos.\n",
    "\n",
    "Si queremos repetir este proceso con 1000 máquinas, un solo controlador colapsaría. Podemos agregar una jerarquía de controladores, sin embargo, donde cada 10 máquina envía a un controlador intermedio y esos, a su vez, a un controlador mayor.\n",
    "\n",
    "Cuando se trabaja con un número tan elevado de núcleos de procesamiento, la probabilidad de que alguna máquina presente errores se incrementa. Si definimos el error que una sola máquina falle como $\\epsilon=0.001$ podemos definir la probabilidad que 10 máquinas ejecuten el proceso sin tener errores como $(1-\\epsilon)^{10}=0.999^{10}=0.9900448802$. Esto quiere decir que en más del 99% de las ejecuciones no debería existir errores en las máquinas y, por lo tanto, la tarea debería concluirse exitosamente. El mismo razonamiento para 1000 máquinas, sin embargo, nos da una probabilidad que todos los núcleos sean exitosos de 37%, únicamente ($(1-\\epsilon)^{1000}=0.999^{1000}=0.3676954248$.\n",
    "\n",
    "Esto quiere deir que el modelado debe incorporar tolerancia a fallos integralemente, replicando las entradas (3 copias), distribuyendo el mismo trabajo entre máquinas no relacionadas entre sí, utilización de checksums, etc.\n",
    "\n",
    "## Detalles de MapReduce\n",
    "De acuerdo a su publicación original *MapReduce* es un modelo de programación para procesar y generar grandes conjuntos de datos. Todo el procesamiento se basa en expresar los datos en pares *llave/valor*. Se debe definir una función de mapeo de los pares originales a una representación intermedia que, posteriormente, es tomada por una función de reducción que une todas las llaves en una sola entrada. Existe una fase oculta a los usuarios que ordena los datos (*shuffle*) previo a la reducción. Si se tienen $R$ máquinas a cargo de la reducción, la fase de shuffle asigna los datos intermedios al nodo con índice `hash(key) % R`.\n",
    "\n",
    "En gran medida, la popularidad de este modelo es que una gran cantidad de problemas reales se pueden modelar de esta forma. Además, los autores crearon un ambiente de ejecución donde los programas escritos en esta forma eran paralelizados y ejecutados de forma distribuida de manera automática. \n",
    "\n",
    "Para el ejemplo del conteo de frecuencias de palabras, el algoritmo para resolverlo sería:\n",
    "\n",
    "```\n",
    "map(String key, String[] value):\n",
    "  // key: document name\n",
    "  // value: document contents\n",
    "  for each word in value:\n",
    "    EmitIntermediate(w, \"1\")\n",
    "\n",
    "reduce(String key, Iterator values):\n",
    "  // key: a word\n",
    "  // values: a list of counts\n",
    "  int result = 0;\n",
    "  for each v in values:\n",
    "    result += ParseInt(v);\n",
    "  Emit(AsString(result));\n",
    "```\n",
    "\n",
    "El siguiente diagrama muestra el proceso completo que efectúa el ambiente de ejecución de *MapReduce*.\n",
    "\n",
    "![mapreduce](mr.png \"Map Reduce\")\n",
    "\n",
    "## Limitaciones de MapReduce\n",
    "Como se mencionó anteriormente, los problemas resueltos por MapReduce *deben* expresarse como una colección de elementos *llave/valor*. De no ser posible, no se puede utilizar el framework para bordarlos.\n",
    "\n",
    "Además, tiene problemas con algoritmos que son iterativos, debido a que en la fase del mapeo se asume que cada elemento es independiente de otros.\n",
    "\n"
   ]
  },
  {
   "cell_type": "markdown",
   "metadata": {},
   "source": [
    "# Datos de ejemplo\n",
    "A manera de ejemplo, asumiremos que una tienda en línea almacena las compras de sus clientes en una base de datos PostgreSQL. Aplicaremos ciertas operaciones básicas sobre los datos para mostrar lo que este tipo de plataformas ofrecen. A continuación, un ejemplo básico de modelo de datos, que se usará posteriormente.\n",
    "\n",
    "```sql\n",
    "CREATE TABLE transactions (\n",
    "  id SERIAL PRIMARY KEY,\n",
    "  customer_id integer NOT NULL,\n",
    "  amount integer NOT NULL,\n",
    "  purchased_at timestamp without time zone NOT NULL\n",
    ");\n",
    "\n",
    "\n",
    "INSERT INTO \"transactions\" (customer_id, amount, purchased_at) VALUES\n",
    "(1, 55, '2017-03-01 09:00:00'),\n",
    "(1, 125, '2017-03-01 10:00:00'),\n",
    "(1, 32, '2017-03-02 13:00:00'),\n",
    "(1, 64, '2017-03-02 15:00:00'),\n",
    "(1, 128, '2017-03-03 10:00:00'),\n",
    "(2, 333, '2017-03-01 09:00:00'),\n",
    "(2, 334, '2017-03-01 09:01:00'),\n",
    "(2, 333, '2017-03-01 09:02:00'),\n",
    "(2, 11, '2017-03-03 20:00:00'),\n",
    "(2, 44, '2017-03-03 20:15:00');\n",
    "```\n",
    "\n",
    "# Apache Spark\n",
    "\n",
    "Existen multiples *frameworks* para procesar datos a gran escala. Para el propósito de esta clase, utilizaremos Apache Spark ya que es un proyecto abierto que ha sido adoptado por una gran candidad de desarrolladores y también es un motor primario en servicios en la nube, como Amazon Web Services. \n",
    "\n",
    "Spark está basado en una abstracción llamada *Resilient Distributed Dataset* (RDD) que es una colección de elementos que pueden ser almacenados, temporal o permanentemente, a lo largo de múltuples nodos físicos de un cluster. Spark permite el uso de múltiples fuentes de datos, desde SQL y NoSQL hasta archivos de texto plano. La tarea primaria de un programador es diseñar las operaciones sucesivas par transformar el RDD de su forma original a la salida deseada.\n",
    "\n",
    "El siguiente ejemplo de código utiliza la base de datos descrita anteriormente y muestra el contenido almacenado en ella. Nótese que si la tabla fuera muy grande llamar al método `show()` no es recomendable."
   ]
  },
  {
   "cell_type": "code",
   "execution_count": 1,
   "metadata": {
    "scrolled": true
   },
   "outputs": [],
   "source": [
    "import findspark\n",
    "findspark.init('C:/tools/Spark/spark-2.4.4-bin-hadoop2.7')"
   ]
  },
  {
   "cell_type": "code",
   "execution_count": 2,
   "metadata": {},
   "outputs": [],
   "source": [
    "import pyspark\n",
    "\n",
    "from datetime import datetime\n",
    "from pyspark.conf import SparkConf\n",
    "from pyspark.sql import SparkSession\n",
    "from pyspark.sql.functions import col, date_format, udf \n",
    "from pyspark.sql.types import DateType\n",
    "\n",
    "spark = SparkSession.builder \\\n",
    "    .appName(\"Basic JDBC pipeline\") \\\n",
    "    .config(\"spark.driver.extraClassPath\", \"C:/tools/postgresql_jdbc/postgresql-42.2.9.jar\") \\\n",
    "    .getOrCreate()"
   ]
  },
  {
   "cell_type": "code",
   "execution_count": 3,
   "metadata": {},
   "outputs": [],
   "source": [
    "# Reading single DataFrame in Spark by retrieving all rows from a DB table.\n",
    "df = spark.read \\\n",
    "    .format(\"jdbc\") \\\n",
    "    .option(\"url\", \"jdbc:postgresql://localhost/Tarea3\") \\\n",
    "    .option(\"user\", \"postgres\") \\\n",
    "    .option(\"password\", \"Nalia07@\") \\\n",
    "    .option(\"dbtable\", \"transactions\") \\\n",
    "    .load()\n"
   ]
  },
  {
   "cell_type": "code",
   "execution_count": 4,
   "metadata": {},
   "outputs": [
    {
     "name": "stdout",
     "output_type": "stream",
     "text": [
      "+---+-----------+------+-------------------+\n",
      "| id|customer_id|amount|       purchased_at|\n",
      "+---+-----------+------+-------------------+\n",
      "|  2|          1|    55|2017-03-01 09:00:00|\n",
      "|  3|          1|   125|2017-03-01 10:00:00|\n",
      "|  4|          1|    32|2017-03-02 13:00:00|\n",
      "|  5|          1|    64|2017-03-02 15:00:00|\n",
      "|  6|          1|   128|2017-03-03 10:00:00|\n",
      "|  7|          2|   333|2017-03-01 09:00:00|\n",
      "|  8|          2|   334|2017-03-01 09:01:00|\n",
      "|  9|          2|   333|2017-03-01 09:02:00|\n",
      "| 10|          2|    11|2017-03-03 20:00:00|\n",
      "| 11|          2|    44|2017-03-03 20:15:00|\n",
      "+---+-----------+------+-------------------+\n",
      "\n"
     ]
    }
   ],
   "source": [
    "df.show()"
   ]
  },
  {
   "cell_type": "markdown",
   "metadata": {},
   "source": [
    "Leer datos directamente rara vez es el objetivo primario. Las dos tareas típicas son: transformar algunas de las columnas en representaciones modificadas de las mismas, o bien, agregar grupos de filas en una. A manera de ejemplo, podemos asumir que se quiere la información del total de compras hechas por clientes.\n",
    "\n",
    "Spark provee ciertas transformaciones básicas. Por ejemplo, transformar fechas a una representación con formato específico, para poder truncar la una estampilla de tiempo a nivel de día. En este caso, se utiliza `date_format` en el módulo `pyspark.sql.functions`. El siguiente código crea una columna nueva después de aplicar la transformación."
   ]
  },
  {
   "cell_type": "code",
   "execution_count": 5,
   "metadata": {
    "scrolled": true
   },
   "outputs": [
    {
     "name": "stdout",
     "output_type": "stream",
     "text": [
      "+---+-----------+------+-------------------+-----------+\n",
      "| id|customer_id|amount|       purchased_at|date_string|\n",
      "+---+-----------+------+-------------------+-----------+\n",
      "|  2|          1|    55|2017-03-01 09:00:00| 03/01/2017|\n",
      "|  3|          1|   125|2017-03-01 10:00:00| 03/01/2017|\n",
      "|  4|          1|    32|2017-03-02 13:00:00| 03/02/2017|\n",
      "|  5|          1|    64|2017-03-02 15:00:00| 03/02/2017|\n",
      "|  6|          1|   128|2017-03-03 10:00:00| 03/03/2017|\n",
      "|  7|          2|   333|2017-03-01 09:00:00| 03/01/2017|\n",
      "|  8|          2|   334|2017-03-01 09:01:00| 03/01/2017|\n",
      "|  9|          2|   333|2017-03-01 09:02:00| 03/01/2017|\n",
      "| 10|          2|    11|2017-03-03 20:00:00| 03/03/2017|\n",
      "| 11|          2|    44|2017-03-03 20:15:00| 03/03/2017|\n",
      "+---+-----------+------+-------------------+-----------+\n",
      "\n"
     ]
    }
   ],
   "source": [
    "formatted_df = df.withColumn(\"date_string\", date_format(col(\"purchased_at\"), 'MM/dd/yyyy'))\n",
    "formatted_df.show()"
   ]
  },
  {
   "cell_type": "markdown",
   "metadata": {},
   "source": [
    "En el caso que necesitemos crear una función que no es parte de la biblioteca estándar en Spark, es posible definir funciones creadas por el usuario (User Defined Functions o *udf*). La noción básica de una `udf` en Spark un lambda acompañado por el tipo de dato retornado. Lo anterior es estrictamente necesario en lenguajes con un sistema de tipos débil.\n",
    "\n",
    "Además, es una manera cómoda de encapsular funciones de Python que deben ser aplicadas a celdas del *Dataframe*, pero aún no tienen su implementación en las bibliotecas.\n",
    "\n",
    "El siguiente ejemplo muestra la columna creada previamente (tipo `string`) y la transforma en un tipo `DateType` propio de Spark."
   ]
  },
  {
   "cell_type": "code",
   "execution_count": 6,
   "metadata": {
    "scrolled": true
   },
   "outputs": [
    {
     "name": "stdout",
     "output_type": "stream",
     "text": [
      "+---+-----------+------+-------------------+-----------+----------+\n",
      "| id|customer_id|amount|       purchased_at|date_string|      date|\n",
      "+---+-----------+------+-------------------+-----------+----------+\n",
      "|  2|          1|    55|2017-03-01 09:00:00| 03/01/2017|2017-03-01|\n",
      "|  3|          1|   125|2017-03-01 10:00:00| 03/01/2017|2017-03-01|\n",
      "|  4|          1|    32|2017-03-02 13:00:00| 03/02/2017|2017-03-02|\n",
      "|  5|          1|    64|2017-03-02 15:00:00| 03/02/2017|2017-03-02|\n",
      "|  6|          1|   128|2017-03-03 10:00:00| 03/03/2017|2017-03-03|\n",
      "|  7|          2|   333|2017-03-01 09:00:00| 03/01/2017|2017-03-01|\n",
      "|  8|          2|   334|2017-03-01 09:01:00| 03/01/2017|2017-03-01|\n",
      "|  9|          2|   333|2017-03-01 09:02:00| 03/01/2017|2017-03-01|\n",
      "| 10|          2|    11|2017-03-03 20:00:00| 03/03/2017|2017-03-03|\n",
      "| 11|          2|    44|2017-03-03 20:15:00| 03/03/2017|2017-03-03|\n",
      "+---+-----------+------+-------------------+-----------+----------+\n",
      "\n",
      "root\n",
      " |-- id: integer (nullable = true)\n",
      " |-- customer_id: integer (nullable = true)\n",
      " |-- amount: integer (nullable = true)\n",
      " |-- purchased_at: timestamp (nullable = true)\n",
      " |-- date_string: string (nullable = true)\n",
      " |-- date: date (nullable = true)\n",
      "\n"
     ]
    }
   ],
   "source": [
    "string_to_date = \\\n",
    "    udf(lambda text_date: datetime.strptime(text_date, '%m/%d/%Y'),\n",
    "        DateType())\n",
    "\n",
    "typed_df = formatted_df.withColumn(\"date\", string_to_date(formatted_df.date_string))\n",
    "typed_df.show()\n",
    "typed_df.printSchema()\n"
   ]
  },
  {
   "cell_type": "markdown",
   "metadata": {},
   "source": [
    "Para sumar los datos podemos utilizar el concepto común de agrupamiento en SQL. Spark posee una agrupación de `groupBy`, directamente. En este caso, queremos sumar todas las compras por cliente y día:"
   ]
  },
  {
   "cell_type": "code",
   "execution_count": 7,
   "metadata": {},
   "outputs": [
    {
     "name": "stdout",
     "output_type": "stream",
     "text": [
      "+-----------+----------+-------+----------------+-----------+\n",
      "|customer_id|      date|sum(id)|sum(customer_id)|sum(amount)|\n",
      "+-----------+----------+-------+----------------+-----------+\n",
      "|          2|2017-03-01|     24|               6|       1000|\n",
      "|          1|2017-03-02|      9|               2|         96|\n",
      "|          1|2017-03-03|      6|               1|        128|\n",
      "|          1|2017-03-01|      5|               2|        180|\n",
      "|          2|2017-03-03|     21|               4|         55|\n",
      "+-----------+----------+-------+----------------+-----------+\n",
      "\n"
     ]
    }
   ],
   "source": [
    "sum_df = typed_df.groupBy(\"customer_id\", \"date\").sum()\n",
    "sum_df.show()"
   ]
  },
  {
   "cell_type": "markdown",
   "metadata": {},
   "source": [
    "Spark sumará todas las columnas **que no se encuentren** especificadas en la operación `groupBy`. Algunos resultados no tienen interpretación últil. Por ejemplo, sumar la columna `customer_id` no da ningún valor agregado. Finalmente, es posible dar a las columnas un nombre más amigable con los consumidores de los datos."
   ]
  },
  {
   "cell_type": "code",
   "execution_count": 8,
   "metadata": {
    "scrolled": true
   },
   "outputs": [
    {
     "name": "stdout",
     "output_type": "stream",
     "text": [
      "root\n",
      " |-- customer_id: integer (nullable = true)\n",
      " |-- date: date (nullable = true)\n",
      " |-- amount: long (nullable = true)\n",
      "\n",
      "+-----------+----------+------+\n",
      "|customer_id|      date|amount|\n",
      "+-----------+----------+------+\n",
      "|          2|2017-03-01|  1000|\n",
      "|          1|2017-03-02|    96|\n",
      "|          1|2017-03-03|   128|\n",
      "|          1|2017-03-01|   180|\n",
      "|          2|2017-03-03|    55|\n",
      "+-----------+----------+------+\n",
      "\n"
     ]
    }
   ],
   "source": [
    "stats_df = \\\n",
    "    sum_df.select(\n",
    "        col('customer_id'),\n",
    "        col('date'),\n",
    "        col('sum(amount)').alias('amount'))\n",
    "\n",
    "stats_df.printSchema()\n",
    "stats_df.show()\n"
   ]
  },
  {
   "cell_type": "markdown",
   "metadata": {},
   "source": [
    "Spark permite cargar información de múltiples fuentes. A continuación se muestra como cargar datos de un archivo CSV que contiene los nombres de los clientes, así como la moneda en que realizan transacciones. Nótese que el CSV no tiene información de tipos de datos, por lo que es buena práctica agregarlos explícitamente."
   ]
  },
  {
   "cell_type": "code",
   "execution_count": 11,
   "metadata": {
    "scrolled": true
   },
   "outputs": [
    {
     "name": "stdout",
     "output_type": "stream",
     "text": [
      "root\n",
      " |-- id: integer (nullable = true)\n",
      " |-- name: string (nullable = true)\n",
      " |-- currency: string (nullable = true)\n",
      "\n",
      "+---+----+--------+\n",
      "| id|name|currency|\n",
      "+---+----+--------+\n",
      "|  1|John|     CRC|\n",
      "|  2|Jane|     EUR|\n",
      "+---+----+--------+\n",
      "\n"
     ]
    }
   ],
   "source": [
    "from pyspark.sql.types import IntegerType, StringType, StructField, StructType\n",
    "\n",
    "names_df = spark \\\n",
    "    .read \\\n",
    "    .format(\"csv\") \\\n",
    "    .option(\"path\", \"names.csv\") \\\n",
    "    .option(\"header\", True) \\\n",
    "    .schema(StructType([\n",
    "                StructField(\"id\", IntegerType()),\n",
    "                StructField(\"name\", StringType()),\n",
    "                StructField(\"currency\", StringType())])) \\\n",
    "    .load()\n",
    "\n",
    "names_df.printSchema()\n",
    "names_df.show()"
   ]
  },
  {
   "cell_type": "markdown",
   "metadata": {},
   "source": [
    "Una vez que la información fue cargada, la fuente particular no es relevante. A continuación se muestra como podemos enriquerecer la información utilizando la funcion **JOIN** entre *data frames*."
   ]
  },
  {
   "cell_type": "code",
   "execution_count": 12,
   "metadata": {
    "scrolled": true
   },
   "outputs": [
    {
     "name": "stdout",
     "output_type": "stream",
     "text": [
      "root\n",
      " |-- customer_id: integer (nullable = true)\n",
      " |-- date: date (nullable = true)\n",
      " |-- amount: long (nullable = true)\n",
      " |-- id: integer (nullable = true)\n",
      " |-- name: string (nullable = true)\n",
      " |-- currency: string (nullable = true)\n",
      "\n",
      "+-----------+----------+------+---+----+--------+\n",
      "|customer_id|      date|amount| id|name|currency|\n",
      "+-----------+----------+------+---+----+--------+\n",
      "|          2|2017-03-01|  1000|  2|Jane|     EUR|\n",
      "|          1|2017-03-02|    96|  1|John|     CRC|\n",
      "|          1|2017-03-03|   128|  1|John|     CRC|\n",
      "|          1|2017-03-01|   180|  1|John|     CRC|\n",
      "|          2|2017-03-03|    55|  2|Jane|     EUR|\n",
      "+-----------+----------+------+---+----+--------+\n",
      "\n"
     ]
    }
   ],
   "source": [
    "joint_df = stats_df.join(names_df, stats_df.customer_id == names_df.id)\n",
    "joint_df.printSchema()\n",
    "joint_df.show()"
   ]
  },
  {
   "cell_type": "markdown",
   "metadata": {},
   "source": [
    "# Ejercicio\n",
    "- Cree un pequeño generador de transacciones. Para ello, puede utilizar funciones de numpy o pandas, para crear las transacciones nuevas en memoria y, posteriormente, puede cargarlas a un *Spark Dataframe* que después debe insertar en la base de datos.\n",
    "- Con los datos nuevos, ejecute el código de éste notebook."
   ]
  },
  {
   "cell_type": "markdown",
   "metadata": {},
   "source": [
    "# Configuración\n",
    "Para ejecutar el código de ejemplo en este notebook es necesario instalar Jupyter localmente. con soporte de Python. También es necesario instalar una serie de módulos utilizando el comando `pip`:\n",
    "\n",
    "```bash\n",
    "pip3 install pyspark\n",
    "pip3 install findspark\n",
    "```\n",
    "\n",
    "Referencias adicionales: [Spark](https://spark.apache.org/) y [PostgreSQL](https://www.postgresql.org/).\n",
    "\n",
    "# Referencias\n",
    "- Schutt, R; O'Neill C. Doing Data Science - Straight Talk from the Frontline. O'Reilly Media. 2013 (Capítulo 14)\n",
    "- Dean, J; Ghemawat, S. MapReduce: Simplified Data Processing on Large Clusters. https://static.googleusercontent.com/media/research.google.com/en//archive/mapreduce-osdi04.pdf"
   ]
  },
  {
   "cell_type": "markdown",
   "metadata": {},
   "source": [
    "# INICIO DE LA TAREA"
   ]
  },
  {
   "cell_type": "code",
   "execution_count": 48,
   "metadata": {},
   "outputs": [],
   "source": [
    "import random\n",
    "from datetime import datetime, date\n",
    "from random import randint, uniform\n",
    "import pandas as pd\n",
    "import random"
   ]
  },
  {
   "cell_type": "code",
   "execution_count": 49,
   "metadata": {},
   "outputs": [],
   "source": [
    "#generado números del 1 al 5 porque incluí una tabla de clientes con códigos del 1 al 5\n",
    "def get_CodigoCliente():\n",
    "    return randint(0,5)\n",
    "\n",
    "#prueba de generación\n",
    "#for i in range(10):\n",
    "#    print(get_CodigoCliente())"
   ]
  },
  {
   "cell_type": "code",
   "execution_count": 58,
   "metadata": {},
   "outputs": [],
   "source": [
    "#generador de montos de compra que van desde 1,900 hasta 850,000 con dos decimales\n",
    "def get_MontoCompra():\n",
    "    return  round (uniform(1900,850000),2)\n",
    "\n",
    "#prueba de generación\n",
    "#for i in range(10):\n",
    "#    print(get_MontoCompra())"
   ]
  },
  {
   "cell_type": "code",
   "execution_count": 127,
   "metadata": {},
   "outputs": [],
   "source": [
    "#genera fechas aleatorias, defini 2000 como el año inicial, la fecha se requiere como timestamp para que sea compatible\n",
    "#con los datos de la tabla. La lógica de generación la tome de stackoverflow\n",
    "def get_FechaAleatoria():     \n",
    "    AMin=2000\n",
    "    AMax=datetime.now().year\n",
    "    Inicio = datetime(AMin, 1, 1, 00, 00, 00)\n",
    "    AA = AMax - AMin + 1\n",
    "    Fin = Inicio + timedelta(days=365 * AA)\n",
    "    return Inicio + (Fin - Inicio) * random.random()\n",
    "    \n",
    "\n",
    "#Prueba de generación de fechas\n",
    "#for i in range(10):\n",
    "#    print(gen_datetime())"
   ]
  },
  {
   "cell_type": "markdown",
   "metadata": {},
   "source": [
    "### Generación de datos para incluir en base de datos"
   ]
  },
  {
   "cell_type": "code",
   "execution_count": 128,
   "metadata": {},
   "outputs": [
    {
     "data": {
      "text/html": [
       "<div>\n",
       "<style scoped>\n",
       "    .dataframe tbody tr th:only-of-type {\n",
       "        vertical-align: middle;\n",
       "    }\n",
       "\n",
       "    .dataframe tbody tr th {\n",
       "        vertical-align: top;\n",
       "    }\n",
       "\n",
       "    .dataframe thead th {\n",
       "        text-align: right;\n",
       "    }\n",
       "</style>\n",
       "<table border=\"1\" class=\"dataframe\">\n",
       "  <thead>\n",
       "    <tr style=\"text-align: right;\">\n",
       "      <th></th>\n",
       "      <th>amount</th>\n",
       "      <th>customer_id</th>\n",
       "      <th>purchased_at</th>\n",
       "    </tr>\n",
       "  </thead>\n",
       "  <tbody>\n",
       "    <tr>\n",
       "      <th>0</th>\n",
       "      <td>350955.27</td>\n",
       "      <td>3.0</td>\n",
       "      <td>2015-07-28 09:30:59.240141</td>\n",
       "    </tr>\n",
       "    <tr>\n",
       "      <th>1</th>\n",
       "      <td>46599.88</td>\n",
       "      <td>5.0</td>\n",
       "      <td>2010-09-04 09:33:43.629924</td>\n",
       "    </tr>\n",
       "    <tr>\n",
       "      <th>2</th>\n",
       "      <td>295802.33</td>\n",
       "      <td>3.0</td>\n",
       "      <td>2002-03-18 02:01:56.168931</td>\n",
       "    </tr>\n",
       "    <tr>\n",
       "      <th>3</th>\n",
       "      <td>75583.57</td>\n",
       "      <td>3.0</td>\n",
       "      <td>2002-02-08 18:28:37.994148</td>\n",
       "    </tr>\n",
       "    <tr>\n",
       "      <th>4</th>\n",
       "      <td>101572.16</td>\n",
       "      <td>1.0</td>\n",
       "      <td>2008-01-14 02:50:38.915847</td>\n",
       "    </tr>\n",
       "    <tr>\n",
       "      <th>5</th>\n",
       "      <td>130123.59</td>\n",
       "      <td>3.0</td>\n",
       "      <td>2007-09-03 20:56:35.710260</td>\n",
       "    </tr>\n",
       "    <tr>\n",
       "      <th>6</th>\n",
       "      <td>108131.73</td>\n",
       "      <td>1.0</td>\n",
       "      <td>2004-03-20 10:19:41.031294</td>\n",
       "    </tr>\n",
       "    <tr>\n",
       "      <th>7</th>\n",
       "      <td>723547.06</td>\n",
       "      <td>3.0</td>\n",
       "      <td>2015-01-14 06:20:41.697110</td>\n",
       "    </tr>\n",
       "    <tr>\n",
       "      <th>8</th>\n",
       "      <td>167834.69</td>\n",
       "      <td>1.0</td>\n",
       "      <td>2019-06-09 07:17:58.411117</td>\n",
       "    </tr>\n",
       "    <tr>\n",
       "      <th>9</th>\n",
       "      <td>369487.50</td>\n",
       "      <td>0.0</td>\n",
       "      <td>2010-09-14 18:08:34.531931</td>\n",
       "    </tr>\n",
       "    <tr>\n",
       "      <th>10</th>\n",
       "      <td>819431.61</td>\n",
       "      <td>3.0</td>\n",
       "      <td>2013-04-11 02:18:24.960940</td>\n",
       "    </tr>\n",
       "    <tr>\n",
       "      <th>11</th>\n",
       "      <td>270850.76</td>\n",
       "      <td>5.0</td>\n",
       "      <td>2019-03-15 14:20:33.300933</td>\n",
       "    </tr>\n",
       "    <tr>\n",
       "      <th>12</th>\n",
       "      <td>80700.16</td>\n",
       "      <td>3.0</td>\n",
       "      <td>2006-09-04 22:09:46.941986</td>\n",
       "    </tr>\n",
       "    <tr>\n",
       "      <th>13</th>\n",
       "      <td>847249.06</td>\n",
       "      <td>1.0</td>\n",
       "      <td>2017-07-28 07:17:43.967429</td>\n",
       "    </tr>\n",
       "    <tr>\n",
       "      <th>14</th>\n",
       "      <td>584492.88</td>\n",
       "      <td>0.0</td>\n",
       "      <td>2001-02-18 06:49:26.673906</td>\n",
       "    </tr>\n",
       "    <tr>\n",
       "      <th>15</th>\n",
       "      <td>705096.50</td>\n",
       "      <td>1.0</td>\n",
       "      <td>2016-11-08 03:37:19.044971</td>\n",
       "    </tr>\n",
       "    <tr>\n",
       "      <th>16</th>\n",
       "      <td>170827.55</td>\n",
       "      <td>3.0</td>\n",
       "      <td>2002-09-07 10:54:29.319448</td>\n",
       "    </tr>\n",
       "    <tr>\n",
       "      <th>17</th>\n",
       "      <td>375178.15</td>\n",
       "      <td>3.0</td>\n",
       "      <td>2006-08-08 14:39:06.985423</td>\n",
       "    </tr>\n",
       "    <tr>\n",
       "      <th>18</th>\n",
       "      <td>437955.37</td>\n",
       "      <td>5.0</td>\n",
       "      <td>2010-06-08 23:48:07.074606</td>\n",
       "    </tr>\n",
       "    <tr>\n",
       "      <th>19</th>\n",
       "      <td>182986.68</td>\n",
       "      <td>0.0</td>\n",
       "      <td>2019-03-25 13:39:34.443320</td>\n",
       "    </tr>\n",
       "  </tbody>\n",
       "</table>\n",
       "</div>"
      ],
      "text/plain": [
       "       amount  customer_id               purchased_at\n",
       "0   350955.27          3.0 2015-07-28 09:30:59.240141\n",
       "1    46599.88          5.0 2010-09-04 09:33:43.629924\n",
       "2   295802.33          3.0 2002-03-18 02:01:56.168931\n",
       "3    75583.57          3.0 2002-02-08 18:28:37.994148\n",
       "4   101572.16          1.0 2008-01-14 02:50:38.915847\n",
       "5   130123.59          3.0 2007-09-03 20:56:35.710260\n",
       "6   108131.73          1.0 2004-03-20 10:19:41.031294\n",
       "7   723547.06          3.0 2015-01-14 06:20:41.697110\n",
       "8   167834.69          1.0 2019-06-09 07:17:58.411117\n",
       "9   369487.50          0.0 2010-09-14 18:08:34.531931\n",
       "10  819431.61          3.0 2013-04-11 02:18:24.960940\n",
       "11  270850.76          5.0 2019-03-15 14:20:33.300933\n",
       "12   80700.16          3.0 2006-09-04 22:09:46.941986\n",
       "13  847249.06          1.0 2017-07-28 07:17:43.967429\n",
       "14  584492.88          0.0 2001-02-18 06:49:26.673906\n",
       "15  705096.50          1.0 2016-11-08 03:37:19.044971\n",
       "16  170827.55          3.0 2002-09-07 10:54:29.319448\n",
       "17  375178.15          3.0 2006-08-08 14:39:06.985423\n",
       "18  437955.37          5.0 2010-06-08 23:48:07.074606\n",
       "19  182986.68          0.0 2019-03-25 13:39:34.443320"
      ]
     },
     "execution_count": 128,
     "metadata": {},
     "output_type": "execute_result"
    }
   ],
   "source": [
    "#generar los datos en un dataframe, por medio de las funciones creadas\n",
    "DatosGenerados = pd.DataFrame()\n",
    "\n",
    "for i in range(250):\n",
    "    DatosGenerados = DatosGenerados.append({\"customer_id\": get_CodigoCliente(), \n",
    "                    \"amount\": get_MontoCompra(), \n",
    "                    \"purchased_at\": get_FechaAleatoria()}, ignore_index=True)\n",
    "    \n",
    "#imprimir los primeros 20 registros\n",
    "DatosGenerados.head(20)"
   ]
  },
  {
   "cell_type": "markdown",
   "metadata": {},
   "source": [
    "### DEFINICION DEL AMBIENTE PYSPARK "
   ]
  },
  {
   "cell_type": "code",
   "execution_count": 129,
   "metadata": {},
   "outputs": [],
   "source": [
    "import findspark\n",
    "findspark.init('C:/tools/Spark/spark-2.4.4-bin-hadoop2.7')\n",
    "from pyspark.sql.types import *"
   ]
  },
  {
   "cell_type": "code",
   "execution_count": 130,
   "metadata": {},
   "outputs": [],
   "source": [
    "import pyspark\n",
    "\n",
    "from datetime import datetime\n",
    "from pyspark.conf import SparkConf\n",
    "from pyspark.sql import SparkSession\n",
    "from pyspark.sql.functions import col, date_format, udf \n",
    "from pyspark.sql.types import DateType\n",
    "\n",
    "spark2 = SparkSession.builder \\\n",
    "    .appName(\"Basic JDBC pipeline\") \\\n",
    "    .config(\"spark.driver.extraClassPath\", \"C:/tools/postgresql_jdbc/postgresql-42.2.9.jar\") \\\n",
    "    .getOrCreate()"
   ]
  },
  {
   "cell_type": "markdown",
   "metadata": {},
   "source": [
    "#### Creación del esquema para pandas "
   ]
  },
  {
   "cell_type": "code",
   "execution_count": 131,
   "metadata": {},
   "outputs": [
    {
     "name": "stdout",
     "output_type": "stream",
     "text": [
      "+---------+-----------+--------------------+\n",
      "|   amount|customer_id|        purchased_at|\n",
      "+---------+-----------+--------------------+\n",
      "|350955.28|        3.0|2015-07-28 09:30:...|\n",
      "| 46599.88|        5.0|2010-09-04 09:33:...|\n",
      "|295802.34|        3.0|2002-03-18 02:01:...|\n",
      "| 75583.57|        3.0|2002-02-08 18:28:...|\n",
      "|101572.16|        1.0|2008-01-14 02:50:...|\n",
      "|130123.59|        3.0|2007-09-03 20:56:...|\n",
      "|108131.73|        1.0|2004-03-20 10:19:...|\n",
      "|723547.06|        3.0|2015-01-14 06:20:...|\n",
      "|167834.69|        1.0|2019-06-09 07:17:...|\n",
      "| 369487.5|        0.0|2010-09-14 18:08:...|\n",
      "| 819431.6|        3.0|2013-04-11 02:18:...|\n",
      "|270850.75|        5.0|2019-03-15 14:20:...|\n",
      "| 80700.16|        3.0|2006-09-04 22:09:...|\n",
      "|847249.06|        1.0|2017-07-28 07:17:...|\n",
      "| 584492.9|        0.0|2001-02-18 06:49:...|\n",
      "| 705096.5|        1.0|2016-11-08 03:37:...|\n",
      "|170827.55|        3.0|2002-09-07 10:54:...|\n",
      "|375178.16|        3.0|2006-08-08 14:39:...|\n",
      "|437955.38|        5.0|2010-06-08 23:48:...|\n",
      "|182986.69|        0.0|2019-03-25 13:39:...|\n",
      "+---------+-----------+--------------------+\n",
      "only showing top 20 rows\n",
      "\n"
     ]
    }
   ],
   "source": [
    "#Primero creo la estructura que tiene la tabla, por lo tanto debe ser la misma del dataframe\n",
    "\n",
    "EsquemaTransacciones = StructType([ StructField(\"amount\", FloatType(), True), \\\n",
    "                        StructField(\"customer_id\", FloatType(), True), \\\n",
    "                        StructField(\"purchased_at\", TimestampType(), True)])\n",
    "\n",
    "spark2 = SparkSession.builder.appName('AppPandasASpark').getOrCreate()\n",
    "\n",
    "DatosSpark = spark2.createDataFrame(DatosGenerados, schema=EsquemaTransacciones)\n",
    "DatosSpark.show()"
   ]
  },
  {
   "cell_type": "code",
   "execution_count": 134,
   "metadata": {},
   "outputs": [],
   "source": [
    "DatosSpark.write.mode(\"overwrite\") \\\n",
    "   .format(\"jdbc\") \\\n",
    "    .option(\"url\", \"jdbc:postgresql://localhost/Tarea3\") \\\n",
    "    .option(\"user\", \"postgres\") \\\n",
    "    .option(\"password\", \"Nalia07@\") \\\n",
    "    .option(\"dbtable\", \"transactions\") \\\n",
    "    .save()"
   ]
  },
  {
   "cell_type": "code",
   "execution_count": 135,
   "metadata": {},
   "outputs": [
    {
     "name": "stdout",
     "output_type": "stream",
     "text": [
      "+---------+-----------+--------------------+\n",
      "|   amount|customer_id|        purchased_at|\n",
      "+---------+-----------+--------------------+\n",
      "|350955.28|        3.0|2015-07-28 09:30:...|\n",
      "| 46599.88|        5.0|2010-09-04 09:33:...|\n",
      "|295802.34|        3.0|2002-03-18 02:01:...|\n",
      "| 75583.57|        3.0|2002-02-08 18:28:...|\n",
      "|101572.16|        1.0|2008-01-14 02:50:...|\n",
      "|130123.59|        3.0|2007-09-03 20:56:...|\n",
      "|108131.73|        1.0|2004-03-20 10:19:...|\n",
      "|723547.06|        3.0|2015-01-14 06:20:...|\n",
      "|167834.69|        1.0|2019-06-09 07:17:...|\n",
      "| 369487.5|        0.0|2010-09-14 18:08:...|\n",
      "| 819431.6|        3.0|2013-04-11 02:18:...|\n",
      "|270850.75|        5.0|2019-03-15 14:20:...|\n",
      "| 80700.16|        3.0|2006-09-04 22:09:...|\n",
      "|847249.06|        1.0|2017-07-28 07:17:...|\n",
      "| 584492.9|        0.0|2001-02-18 06:49:...|\n",
      "| 705096.5|        1.0|2016-11-08 03:37:...|\n",
      "|170827.55|        3.0|2002-09-07 10:54:...|\n",
      "|375178.16|        3.0|2006-08-08 14:39:...|\n",
      "|437955.38|        5.0|2010-06-08 23:48:...|\n",
      "|182986.69|        0.0|2019-03-25 13:39:...|\n",
      "+---------+-----------+--------------------+\n",
      "only showing top 20 rows\n",
      "\n"
     ]
    }
   ],
   "source": [
    "# Reading single DataFrame in Spark by retrieving all rows from a DB table.\n",
    "DatosNuevos = spark.read \\\n",
    "    .format(\"jdbc\") \\\n",
    "    .option(\"url\", \"jdbc:postgresql://localhost/Tarea3\") \\\n",
    "    .option(\"user\", \"postgres\") \\\n",
    "    .option(\"password\", \"Nalia07@\") \\\n",
    "    .option(\"dbtable\", \"transactions\") \\\n",
    "    .load()\n",
    "\n",
    "DatosNuevos.show()"
   ]
  },
  {
   "cell_type": "markdown",
   "metadata": {},
   "source": [
    "### No voy a repetir el texto completo del notebook, porque esta arriba, lo voy a resumir."
   ]
  },
  {
   "cell_type": "markdown",
   "metadata": {},
   "source": [
    "Transformar fechas a una representación con formato específico, para poder truncar la una estampilla de tiempo a nivel de día. En este caso, se utiliza date_format en el módulo pyspark.sql.functions. El siguiente código crea una columna nueva después de aplicar la transformación."
   ]
  },
  {
   "cell_type": "code",
   "execution_count": 136,
   "metadata": {},
   "outputs": [
    {
     "name": "stdout",
     "output_type": "stream",
     "text": [
      "+---------+-----------+--------------------+-----------+\n",
      "|   amount|customer_id|        purchased_at|date_string|\n",
      "+---------+-----------+--------------------+-----------+\n",
      "|350955.28|        3.0|2015-07-28 09:30:...| 07/28/2015|\n",
      "| 46599.88|        5.0|2010-09-04 09:33:...| 09/04/2010|\n",
      "|295802.34|        3.0|2002-03-18 02:01:...| 03/18/2002|\n",
      "| 75583.57|        3.0|2002-02-08 18:28:...| 02/08/2002|\n",
      "|101572.16|        1.0|2008-01-14 02:50:...| 01/14/2008|\n",
      "|130123.59|        3.0|2007-09-03 20:56:...| 09/03/2007|\n",
      "|108131.73|        1.0|2004-03-20 10:19:...| 03/20/2004|\n",
      "|723547.06|        3.0|2015-01-14 06:20:...| 01/14/2015|\n",
      "|167834.69|        1.0|2019-06-09 07:17:...| 06/09/2019|\n",
      "| 369487.5|        0.0|2010-09-14 18:08:...| 09/14/2010|\n",
      "| 819431.6|        3.0|2013-04-11 02:18:...| 04/11/2013|\n",
      "|270850.75|        5.0|2019-03-15 14:20:...| 03/15/2019|\n",
      "| 80700.16|        3.0|2006-09-04 22:09:...| 09/04/2006|\n",
      "|847249.06|        1.0|2017-07-28 07:17:...| 07/28/2017|\n",
      "| 584492.9|        0.0|2001-02-18 06:49:...| 02/18/2001|\n",
      "| 705096.5|        1.0|2016-11-08 03:37:...| 11/08/2016|\n",
      "|170827.55|        3.0|2002-09-07 10:54:...| 09/07/2002|\n",
      "|375178.16|        3.0|2006-08-08 14:39:...| 08/08/2006|\n",
      "|437955.38|        5.0|2010-06-08 23:48:...| 06/08/2010|\n",
      "|182986.69|        0.0|2019-03-25 13:39:...| 03/25/2019|\n",
      "+---------+-----------+--------------------+-----------+\n",
      "only showing top 20 rows\n",
      "\n"
     ]
    }
   ],
   "source": [
    "formatted_DatosNuevos = DatosNuevos.withColumn(\"date_string\", date_format(col(\"purchased_at\"), 'MM/dd/yyyy'))\n",
    "formatted_DatosNuevos.show()"
   ]
  },
  {
   "cell_type": "markdown",
   "metadata": {},
   "source": [
    "USER DEFINED FUNCTIONS o UDF \n",
    "\n",
    "La noción básica de una udf en Spark un lambda acompañado por el tipo de dato retornado. Lo anterior es estrictamente necesario en lenguajes con un sistema de tipos débil.\n",
    "\n",
    "El siguiente ejemplo muestra la columna creada previamente (tipo string) y la transforma en un tipo DateType propio de Spark."
   ]
  },
  {
   "cell_type": "code",
   "execution_count": 138,
   "metadata": {},
   "outputs": [
    {
     "name": "stdout",
     "output_type": "stream",
     "text": [
      "+---------+-----------+--------------------+-----------+----------+\n",
      "|   amount|customer_id|        purchased_at|date_string|      date|\n",
      "+---------+-----------+--------------------+-----------+----------+\n",
      "|350955.28|        3.0|2015-07-28 09:30:...| 07/28/2015|2015-07-28|\n",
      "| 46599.88|        5.0|2010-09-04 09:33:...| 09/04/2010|2010-09-04|\n",
      "|295802.34|        3.0|2002-03-18 02:01:...| 03/18/2002|2002-03-18|\n",
      "| 75583.57|        3.0|2002-02-08 18:28:...| 02/08/2002|2002-02-08|\n",
      "|101572.16|        1.0|2008-01-14 02:50:...| 01/14/2008|2008-01-14|\n",
      "|130123.59|        3.0|2007-09-03 20:56:...| 09/03/2007|2007-09-03|\n",
      "|108131.73|        1.0|2004-03-20 10:19:...| 03/20/2004|2004-03-20|\n",
      "|723547.06|        3.0|2015-01-14 06:20:...| 01/14/2015|2015-01-14|\n",
      "|167834.69|        1.0|2019-06-09 07:17:...| 06/09/2019|2019-06-09|\n",
      "| 369487.5|        0.0|2010-09-14 18:08:...| 09/14/2010|2010-09-14|\n",
      "| 819431.6|        3.0|2013-04-11 02:18:...| 04/11/2013|2013-04-11|\n",
      "|270850.75|        5.0|2019-03-15 14:20:...| 03/15/2019|2019-03-15|\n",
      "| 80700.16|        3.0|2006-09-04 22:09:...| 09/04/2006|2006-09-04|\n",
      "|847249.06|        1.0|2017-07-28 07:17:...| 07/28/2017|2017-07-28|\n",
      "| 584492.9|        0.0|2001-02-18 06:49:...| 02/18/2001|2001-02-18|\n",
      "| 705096.5|        1.0|2016-11-08 03:37:...| 11/08/2016|2016-11-08|\n",
      "|170827.55|        3.0|2002-09-07 10:54:...| 09/07/2002|2002-09-07|\n",
      "|375178.16|        3.0|2006-08-08 14:39:...| 08/08/2006|2006-08-08|\n",
      "|437955.38|        5.0|2010-06-08 23:48:...| 06/08/2010|2010-06-08|\n",
      "|182986.69|        0.0|2019-03-25 13:39:...| 03/25/2019|2019-03-25|\n",
      "+---------+-----------+--------------------+-----------+----------+\n",
      "only showing top 20 rows\n",
      "\n",
      "root\n",
      " |-- amount: float (nullable = true)\n",
      " |-- customer_id: float (nullable = true)\n",
      " |-- purchased_at: timestamp (nullable = true)\n",
      " |-- date_string: string (nullable = true)\n",
      " |-- date: date (nullable = true)\n",
      "\n"
     ]
    }
   ],
   "source": [
    "string_to_date = \\\n",
    "    udf(lambda text_date: datetime.strptime(text_date, '%m/%d/%Y'),\n",
    "        DateType())\n",
    "\n",
    "typed_DatosNuevos = formatted_DatosNuevos.withColumn(\"date\", string_to_date(formatted_DatosNuevos.date_string))\n",
    "typed_DatosNuevos.show()\n",
    "typed_DatosNuevos.printSchema()"
   ]
  },
  {
   "cell_type": "markdown",
   "metadata": {},
   "source": [
    "Para sumar los datos podemos utilizar el concepto común de agrupamiento en SQL. Spark posee una agrupación de groupBy, directamente. En este caso, queremos sumar todas las compras por cliente y día:\n",
    "\n"
   ]
  },
  {
   "cell_type": "code",
   "execution_count": 140,
   "metadata": {},
   "outputs": [
    {
     "name": "stdout",
     "output_type": "stream",
     "text": [
      "+-----------+----------+--------------+----------------+\n",
      "|customer_id|      date|   sum(amount)|sum(customer_id)|\n",
      "+-----------+----------+--------------+----------------+\n",
      "|        3.0|2006-08-08|  375178.15625|             3.0|\n",
      "|        0.0|2001-02-18|    584492.875|             0.0|\n",
      "|        5.0|2014-10-29|  228326.34375|             5.0|\n",
      "|        2.0|2009-03-22|   717238.0625|             2.0|\n",
      "|        2.0|2009-02-23|   466119.0625|             2.0|\n",
      "|        5.0|2002-02-18| 179576.296875|             5.0|\n",
      "|        5.0|2014-02-16|   421361.6875|             5.0|\n",
      "|        1.0|2018-04-29|  309794.40625|             1.0|\n",
      "|        1.0|2007-06-21|35489.51171875|             1.0|\n",
      "|        0.0|2013-03-03| 210485.953125|             0.0|\n",
      "|        1.0|2018-01-07|    264014.875|             1.0|\n",
      "|        4.0|2014-05-16|   69801.71875|             4.0|\n",
      "|        2.0|2003-05-25|   179707.3125|             2.0|\n",
      "|        0.0|2001-12-06|  408123.59375|             0.0|\n",
      "|        3.0|2014-12-18|   615805.9375|             3.0|\n",
      "|        0.0|2010-09-14|     1018428.5|             0.0|\n",
      "|        3.0|2011-02-01| 253001.015625|             3.0|\n",
      "|        2.0|2003-06-19|     582520.25|             2.0|\n",
      "|        3.0|2015-01-14|   723547.0625|             3.0|\n",
      "|        5.0|2008-07-08|      474304.0|             5.0|\n",
      "+-----------+----------+--------------+----------------+\n",
      "only showing top 20 rows\n",
      "\n"
     ]
    }
   ],
   "source": [
    "sum_DatosNuevos = typed_DatosNuevos.groupBy(\"customer_id\", \"date\").sum()\n",
    "sum_DatosNuevos.show()"
   ]
  },
  {
   "cell_type": "markdown",
   "metadata": {},
   "source": [
    "Spark sumará todas las columnas que no se encuentren especificadas en la operación groupBy. Algunos resultados no tienen interpretación últil. Por ejemplo, sumar la columna customer_id no da ningún valor agregado. Finalmente, es posible dar a las columnas un nombre más amigable con los consumidores de los datos."
   ]
  },
  {
   "cell_type": "code",
   "execution_count": 141,
   "metadata": {},
   "outputs": [
    {
     "name": "stdout",
     "output_type": "stream",
     "text": [
      "root\n",
      " |-- customer_id: float (nullable = true)\n",
      " |-- date: date (nullable = true)\n",
      " |-- amount: double (nullable = true)\n",
      "\n",
      "+-----------+----------+--------------+\n",
      "|customer_id|      date|        amount|\n",
      "+-----------+----------+--------------+\n",
      "|        3.0|2006-08-08|  375178.15625|\n",
      "|        0.0|2001-02-18|    584492.875|\n",
      "|        5.0|2014-10-29|  228326.34375|\n",
      "|        2.0|2009-03-22|   717238.0625|\n",
      "|        2.0|2009-02-23|   466119.0625|\n",
      "|        5.0|2002-02-18| 179576.296875|\n",
      "|        5.0|2014-02-16|   421361.6875|\n",
      "|        1.0|2018-04-29|  309794.40625|\n",
      "|        1.0|2007-06-21|35489.51171875|\n",
      "|        0.0|2013-03-03| 210485.953125|\n",
      "|        1.0|2018-01-07|    264014.875|\n",
      "|        4.0|2014-05-16|   69801.71875|\n",
      "|        2.0|2003-05-25|   179707.3125|\n",
      "|        0.0|2001-12-06|  408123.59375|\n",
      "|        3.0|2014-12-18|   615805.9375|\n",
      "|        0.0|2010-09-14|     1018428.5|\n",
      "|        3.0|2011-02-01| 253001.015625|\n",
      "|        2.0|2003-06-19|     582520.25|\n",
      "|        3.0|2015-01-14|   723547.0625|\n",
      "|        5.0|2008-07-08|      474304.0|\n",
      "+-----------+----------+--------------+\n",
      "only showing top 20 rows\n",
      "\n"
     ]
    }
   ],
   "source": [
    "stats_DatosNuevos = \\\n",
    "    sum_DatosNuevos.select(\n",
    "        col('customer_id'),\n",
    "        col('date'),\n",
    "        col('sum(amount)').alias('amount'))\n",
    "\n",
    "stats_DatosNuevos.printSchema()\n",
    "stats_DatosNuevos.show()"
   ]
  },
  {
   "cell_type": "markdown",
   "metadata": {},
   "source": [
    "Spark permite cargar información de múltiples fuentes. A continuación se muestra como cargar datos de un archivo CSV que contiene los nombres de los clientes, así como la moneda en que realizan transacciones. Nótese que el CSV no tiene información de tipos de datos, por lo que es buena práctica agregarlos explícitamente."
   ]
  },
  {
   "cell_type": "code",
   "execution_count": 142,
   "metadata": {},
   "outputs": [
    {
     "name": "stdout",
     "output_type": "stream",
     "text": [
      "root\n",
      " |-- id: integer (nullable = true)\n",
      " |-- name: string (nullable = true)\n",
      " |-- currency: string (nullable = true)\n",
      "\n",
      "+---+----+--------+\n",
      "| id|name|currency|\n",
      "+---+----+--------+\n",
      "|  1|John|     CRC|\n",
      "|  2|Jane|     EUR|\n",
      "+---+----+--------+\n",
      "\n"
     ]
    }
   ],
   "source": [
    "from pyspark.sql.types import IntegerType, StringType, StructField, StructType\n",
    "\n",
    "names_df = spark \\\n",
    "    .read \\\n",
    "    .format(\"csv\") \\\n",
    "    .option(\"path\", \"names.csv\") \\\n",
    "    .option(\"header\", True) \\\n",
    "    .schema(StructType([\n",
    "                StructField(\"id\", IntegerType()),\n",
    "                StructField(\"name\", StringType()),\n",
    "                StructField(\"currency\", StringType())])) \\\n",
    "    .load()\n",
    "\n",
    "names_df.printSchema()\n",
    "names_df.show()"
   ]
  },
  {
   "cell_type": "code",
   "execution_count": null,
   "metadata": {},
   "outputs": [],
   "source": []
  }
 ],
 "metadata": {
  "celltoolbar": "Edit Metadata",
  "colab": {
   "default_view": {},
   "name": "ejemplo_latex.ipynb",
   "provenance": [],
   "version": "0.3.2",
   "views": {}
  },
  "kernelspec": {
   "display_name": "Python 3",
   "language": "python",
   "name": "python3"
  },
  "language_info": {
   "codemirror_mode": {
    "name": "ipython",
    "version": 3
   },
   "file_extension": ".py",
   "mimetype": "text/x-python",
   "name": "python",
   "nbconvert_exporter": "python",
   "pygments_lexer": "ipython3",
   "version": "3.7.6"
  }
 },
 "nbformat": 4,
 "nbformat_minor": 1
}
