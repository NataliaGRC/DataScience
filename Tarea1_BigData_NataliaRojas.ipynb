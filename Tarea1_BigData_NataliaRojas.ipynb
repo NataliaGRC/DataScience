{
 "cells": [
  {
   "cell_type": "markdown",
   "metadata": {
    "colab_type": "text",
    "id": "1Mmj0hkot0zv"
   },
   "source": [
    "# Instituto Tecnológico de Costa Rica\n",
    "\n",
    "## Programa de Ciencia de los Datos\n",
    "\n",
    "### Curso: Estadística para Ciencia de los Datos\n",
    "\n",
    "Tarea #1\n",
    "\n",
    "Estudiante:\n",
    "\n",
    "\n",
    "> Natalia Rojas Canales\n",
    "\n",
    "Profesor:\n",
    "\n",
    "> Felipe Meza\n",
    "\n",
    "Noviembre 2019"
   ]
  },
  {
   "cell_type": "markdown",
   "metadata": {
    "colab_type": "text",
    "id": "AR4dS7MwbWdP"
   },
   "source": [
    "# Instrucciones\n",
    "Conseguir un .csv interesante y hacer un notebook utilizando 5 Insight de los utilizados en clase y 3 nuevos."
   ]
  },
  {
   "cell_type": "markdown",
   "metadata": {
    "colab_type": "text",
    "id": "rJTX4_fHbWdX"
   },
   "source": [
    "### Pre-requisitos"
   ]
  },
  {
   "cell_type": "markdown",
   "metadata": {
    "colab_type": "text",
    "id": "o7iJlcqCbWdZ"
   },
   "source": [
    "- findspark\n",
    "- pyspark\n",
    "- spark"
   ]
  },
  {
   "cell_type": "code",
   "execution_count": 1,
   "metadata": {
    "colab": {
     "base_uri": "https://localhost:8080/",
     "height": 234
    },
    "colab_type": "code",
    "id": "DuB-hEGtbuw4",
    "outputId": "7afd87c3-0ed1-497f-bd56-d1c948565fc0"
   },
   "outputs": [
    {
     "name": "stdout",
     "output_type": "stream",
     "text": [
      "Requirement already satisfied: pyspark in c:\\progra~1\\spark\\python (3.0.0.dev0)\n",
      "Collecting py4j==0.10.8.1\n",
      "  Downloading https://files.pythonhosted.org/packages/04/de/2d314a921ef4c20b283e1de94e0780273678caac901564df06b948e4ba9b/py4j-0.10.8.1-py2.py3-none-any.whl (196kB)\n",
      "Installing collected packages: py4j\n",
      "  Found existing installation: py4j 0.10.7\n",
      "    Uninstalling py4j-0.10.7:\n",
      "      Successfully uninstalled py4j-0.10.7\n",
      "Successfully installed py4j-0.10.8.1\n"
     ]
    }
   ],
   "source": [
    "!pip install pyspark\n"
   ]
  },
  {
   "cell_type": "code",
   "execution_count": 2,
   "metadata": {
    "colab": {
     "base_uri": "https://localhost:8080/",
     "height": 84
    },
    "colab_type": "code",
    "id": "PdPvnG-Acj9n",
    "outputId": "1882efbb-9a08-4998-ad16-ba1d7e33efcb"
   },
   "outputs": [
    {
     "name": "stdout",
     "output_type": "stream",
     "text": [
      "Requirement already satisfied: findspark in c:\\users\\naty\\miniconda3\\envs\\bigdata\\lib\\site-packages (1.3.0)\n"
     ]
    }
   ],
   "source": [
    "!pip install findspark"
   ]
  },
  {
   "cell_type": "code",
   "execution_count": 3,
   "metadata": {},
   "outputs": [
    {
     "name": "stdout",
     "output_type": "stream",
     "text": [
      "Requirement already satisfied: spark in c:\\users\\naty\\miniconda3\\envs\\bigdata\\lib\\site-packages (0.2.1)\n"
     ]
    }
   ],
   "source": [
    "!pip install spark"
   ]
  },
  {
   "cell_type": "markdown",
   "metadata": {
    "colab_type": "text",
    "id": "8eTgka2obWdb"
   },
   "source": [
    "Una vez instaladas las librerias necesarias, comenzamos con la importación de librerías y demás parámetros requeridos."
   ]
  },
  {
   "cell_type": "code",
   "execution_count": 4,
   "metadata": {
    "colab": {},
    "colab_type": "code",
    "id": "L_AFfZtJbWdd"
   },
   "outputs": [],
   "source": [
    "from pyspark.sql import SparkSession\n",
    "\n",
    "spark=SparkSession.builder.appName('data_processing').getOrCreate()\n",
    "\n",
    "import pyspark.sql.functions as F\n",
    "from pyspark.sql.types import *"
   ]
  },
  {
   "cell_type": "code",
   "execution_count": 5,
   "metadata": {
    "colab": {},
    "colab_type": "code",
    "id": "T2M9gtUgbWdj"
   },
   "outputs": [],
   "source": [
    "import findspark\n",
    "#findspark.init('/opt/spark')\n",
    "\n",
    "from datetime import datetime\n",
    "from pyspark.sql import SparkSession\n",
    "from pyspark.sql.functions import col, date_format, udf \n",
    "from pyspark.sql.types import DateType\n",
    "\n"
   ]
  },
  {
   "cell_type": "code",
   "execution_count": 6,
   "metadata": {},
   "outputs": [],
   "source": [
    "#seleccione un arhivo de datos de suicidios\n",
    "df=spark.read.csv(\"suicidios.csv\",header=True, inferSchema=True)"
   ]
  },
  {
   "cell_type": "code",
   "execution_count": 7,
   "metadata": {},
   "outputs": [
    {
     "name": "stdout",
     "output_type": "stream",
     "text": [
      "root\n",
      " |-- country: string (nullable = true)\n",
      " |-- year1: integer (nullable = true)\n",
      " |-- sex: string (nullable = true)\n",
      " |-- age: string (nullable = true)\n",
      " |-- suicides_no: integer (nullable = true)\n",
      " |-- population: integer (nullable = true)\n",
      " |-- suicides/100k pop: double (nullable = true)\n",
      " |-- Year7: integer (nullable = true)\n",
      " |-- HDI for year: double (nullable = true)\n",
      " |--  gdp_for_year ($) : string (nullable = true)\n",
      " |-- gdp_per_capita ($): integer (nullable = true)\n",
      " |-- generation: string (nullable = true)\n",
      "\n"
     ]
    }
   ],
   "source": [
    "df.printSchema() \n",
    "#ver el esquema del archivo de datos"
   ]
  },
  {
   "cell_type": "code",
   "execution_count": 17,
   "metadata": {
    "colab": {
     "base_uri": "https://localhost:8080/",
     "height": 842
    },
    "colab_type": "code",
    "id": "ohSFvse5fFoA",
    "outputId": "23316928-c562-48cb-d22e-ee9d273c68c9"
   },
   "outputs": [
    {
     "data": {
      "text/plain": [
       "27820"
      ]
     },
     "execution_count": 17,
     "metadata": {},
     "output_type": "execute_result"
    }
   ],
   "source": [
    "df.count() #cantidad de datos en el archivo"
   ]
  },
  {
   "cell_type": "code",
   "execution_count": 18,
   "metadata": {
    "colab": {
     "base_uri": "https://localhost:8080/",
     "height": 136
    },
    "colab_type": "code",
    "id": "nM455BUEc7fn",
    "outputId": "54c3b502-285c-4b32-bb5e-4d1788b9e292"
   },
   "outputs": [
    {
     "data": {
      "text/plain": [
       "12"
      ]
     },
     "execution_count": 18,
     "metadata": {},
     "output_type": "execute_result"
    }
   ],
   "source": [
    "\n",
    "len(df.columns) #cantidd de columnas en el archivo de datos"
   ]
  },
  {
   "cell_type": "code",
   "execution_count": 19,
   "metadata": {
    "colab": {
     "base_uri": "https://localhost:8080/",
     "height": 153
    },
    "colab_type": "code",
    "id": "RgjPMbPTbWd1",
    "outputId": "bd6bc0d0-a501-48cc-b569-b27dac1fba40"
   },
   "outputs": [
    {
     "name": "stdout",
     "output_type": "stream",
     "text": [
      "+-------+-----+------+-----------+-----------+----------+-----------------+-----+------------+------------------+------------------+---------------+\n",
      "|country|year1|   sex|        age|suicides_no|population|suicides/100k pop|Year7|HDI for year| gdp_for_year ($) |gdp_per_capita ($)|     generation|\n",
      "+-------+-----+------+-----------+-----------+----------+-----------------+-----+------------+------------------+------------------+---------------+\n",
      "|Albania| 1987|  male|15-24 years|         21|    312900|             6.71| 1987|        null|     2,156,624,900|               796|   Generation X|\n",
      "|Albania| 1987|  male|35-54 years|         16|    308000|             5.19| 1987|        null|     2,156,624,900|               796|         Silent|\n",
      "|Albania| 1987|female|15-24 years|         14|    289700|             4.83| 1987|        null|     2,156,624,900|               796|   Generation X|\n",
      "|Albania| 1987|  male|  75+ years|          1|     21800|             4.59| 1987|        null|     2,156,624,900|               796|G.I. Generation|\n",
      "|Albania| 1987|  male|25-34 years|          9|    274300|             3.28| 1987|        null|     2,156,624,900|               796|        Boomers|\n",
      "|Albania| 1987|female|  75+ years|          1|     35600|             2.81| 1987|        null|     2,156,624,900|               796|G.I. Generation|\n",
      "|Albania| 1987|female|35-54 years|          6|    278800|             2.15| 1987|        null|     2,156,624,900|               796|         Silent|\n",
      "|Albania| 1987|female|25-34 years|          4|    257200|             1.56| 1987|        null|     2,156,624,900|               796|        Boomers|\n",
      "|Albania| 1987|  male|55-74 years|          1|    137500|             0.73| 1987|        null|     2,156,624,900|               796|G.I. Generation|\n",
      "|Albania| 1987|female| 5-14 years|          0|    311000|              0.0| 1987|        null|     2,156,624,900|               796|   Generation X|\n",
      "|Albania| 1987|female|55-74 years|          0|    144600|              0.0| 1987|        null|     2,156,624,900|               796|G.I. Generation|\n",
      "|Albania| 1987|  male| 5-14 years|          0|    338200|              0.0| 1987|        null|     2,156,624,900|               796|   Generation X|\n",
      "|Albania| 1988|female|  75+ years|          2|     36400|             5.49| 1988|        null|     2,126,000,000|               769|G.I. Generation|\n",
      "|Albania| 1988|  male|15-24 years|         17|    319200|             5.33| 1988|        null|     2,126,000,000|               769|   Generation X|\n",
      "|Albania| 1988|  male|  75+ years|          1|     22300|             4.48| 1988|        null|     2,126,000,000|               769|G.I. Generation|\n",
      "|Albania| 1988|  male|35-54 years|         14|    314100|             4.46| 1988|        null|     2,126,000,000|               769|         Silent|\n",
      "|Albania| 1988|  male|55-74 years|          4|    140200|             2.85| 1988|        null|     2,126,000,000|               769|G.I. Generation|\n",
      "|Albania| 1988|female|15-24 years|          8|    295600|             2.71| 1988|        null|     2,126,000,000|               769|   Generation X|\n",
      "|Albania| 1988|female|55-74 years|          3|    147500|             2.03| 1988|        null|     2,126,000,000|               769|G.I. Generation|\n",
      "|Albania| 1988|female|25-34 years|          5|    262400|             1.91| 1988|        null|     2,126,000,000|               769|        Boomers|\n",
      "+-------+-----+------+-----------+-----------+----------+-----------------+-----+------------+------------------+------------------+---------------+\n",
      "only showing top 20 rows\n",
      "\n"
     ]
    }
   ],
   "source": [
    "df.show() #una mirada rápida a los datos, dado que no se mostrarán todos"
   ]
  },
  {
   "cell_type": "code",
   "execution_count": 22,
   "metadata": {
    "colab": {
     "base_uri": "https://localhost:8080/",
     "height": 136
    },
    "colab_type": "code",
    "id": "i028iaj4eXiH",
    "outputId": "d4ace6c9-2568-415a-d179-31f7211ce2ec"
   },
   "outputs": [
    {
     "name": "stdout",
     "output_type": "stream",
     "text": [
      "+--------------------+-----+\n",
      "|             country|count|\n",
      "+--------------------+-----+\n",
      "|             Albania|  264|\n",
      "| Antigua and Barbuda|  324|\n",
      "|           Argentina|  372|\n",
      "|             Armenia|  298|\n",
      "|               Aruba|  168|\n",
      "|           Australia|  360|\n",
      "|             Austria|  382|\n",
      "|          Azerbaijan|  192|\n",
      "|             Bahamas|  276|\n",
      "|             Bahrain|  252|\n",
      "|            Barbados|  300|\n",
      "|             Belarus|  252|\n",
      "|             Belgium|  372|\n",
      "|              Belize|  336|\n",
      "|Bosnia and Herzeg...|   24|\n",
      "|              Brazil|  372|\n",
      "|            Bulgaria|  360|\n",
      "|          Cabo Verde|   12|\n",
      "|              Canada|  348|\n",
      "|               Chile|  372|\n",
      "+--------------------+-----+\n",
      "only showing top 20 rows\n",
      "\n"
     ]
    }
   ],
   "source": [
    " #estos datos son de suicidios  y están registrados por país, así que me parece interesante ver los datos agrupados por esa característica\n",
    "df.groupBy('country').count().show()"
   ]
  },
  {
   "cell_type": "code",
   "execution_count": 27,
   "metadata": {
    "colab": {},
    "colab_type": "code",
    "id": "0mI76vjWfUiB"
   },
   "outputs": [
    {
     "name": "stdout",
     "output_type": "stream",
     "text": [
      "+------+----------------+\n",
      "|   sex|sum(suicides_no)|\n",
      "+------+----------------+\n",
      "|  male|         5188910|\n",
      "|female|         1559510|\n",
      "+------+----------------+\n",
      "\n"
     ]
    }
   ],
   "source": [
    "#pero antes solo vi la cantidad de registros, realmente quiero ver la cantidad de sucicidios, pero agrupados por sexo\n",
    "df.groupBy('sex').sum('suicides_no').show()"
   ]
  },
  {
   "cell_type": "markdown",
   "metadata": {},
   "source": [
    "##### Que  MONTON de hombres!!! "
   ]
  },
  {
   "cell_type": "code",
   "execution_count": 28,
   "metadata": {
    "colab": {},
    "colab_type": "code",
    "id": "bXmjDvEzgwD_"
   },
   "outputs": [
    {
     "name": "stdout",
     "output_type": "stream",
     "text": [
      "+-------------------+------+-----------+----------------+\n",
      "|            country|   sex|        age|sum(suicides_no)|\n",
      "+-------------------+------+-----------+----------------+\n",
      "|            Albania|  male|15-24 years|             293|\n",
      "|            Albania|  male|35-54 years|             418|\n",
      "|            Albania|female|15-24 years|             253|\n",
      "|            Albania|  male|  75+ years|              42|\n",
      "|            Albania|  male|25-34 years|             288|\n",
      "|            Albania|female|  75+ years|              39|\n",
      "|            Albania|female|35-54 years|             173|\n",
      "|            Albania|female|25-34 years|             139|\n",
      "|            Albania|  male|55-74 years|             196|\n",
      "|            Albania|female| 5-14 years|              21|\n",
      "|            Albania|female|55-74 years|              68|\n",
      "|            Albania|  male| 5-14 years|              40|\n",
      "|Antigua and Barbuda|female|15-24 years|               0|\n",
      "|Antigua and Barbuda|female|25-34 years|               0|\n",
      "|Antigua and Barbuda|female|35-54 years|               0|\n",
      "|Antigua and Barbuda|female| 5-14 years|               0|\n",
      "|Antigua and Barbuda|female|55-74 years|               1|\n",
      "|Antigua and Barbuda|female|  75+ years|               0|\n",
      "|Antigua and Barbuda|  male|15-24 years|               0|\n",
      "|Antigua and Barbuda|  male|25-34 years|               1|\n",
      "+-------------------+------+-----------+----------------+\n",
      "only showing top 20 rows\n",
      "\n"
     ]
    }
   ],
   "source": [
    "#pero ahora vamos a agrupar por país, sexo y rando de edad\n",
    "df.groupBy('country', 'sex', 'age').sum('suicides_no').show()"
   ]
  },
  {
   "cell_type": "code",
   "execution_count": 25,
   "metadata": {
    "colab": {},
    "colab_type": "code",
    "id": "gNaJpHxdhLpk"
   },
   "outputs": [
    {
     "name": "stdout",
     "output_type": "stream",
     "text": [
      "+-------------------+------+-----------+----------------+\n",
      "|            country|   sex|        age|sum(suicides_no)|\n",
      "+-------------------+------+-----------+----------------+\n",
      "|            Albania|  male|15-24 years|             293|\n",
      "|            Albania|  male|35-54 years|             418|\n",
      "|            Albania|female|15-24 years|             253|\n",
      "|            Albania|  male|  75+ years|              42|\n",
      "|            Albania|  male|25-34 years|             288|\n",
      "|            Albania|female|  75+ years|              39|\n",
      "|            Albania|female|35-54 years|             173|\n",
      "|            Albania|female|25-34 years|             139|\n",
      "|            Albania|  male|55-74 years|             196|\n",
      "|            Albania|female| 5-14 years|              21|\n",
      "|            Albania|female|55-74 years|              68|\n",
      "|            Albania|  male| 5-14 years|              40|\n",
      "|Antigua and Barbuda|female|15-24 years|               0|\n",
      "|Antigua and Barbuda|female|25-34 years|               0|\n",
      "|Antigua and Barbuda|female|35-54 years|               0|\n",
      "|Antigua and Barbuda|female| 5-14 years|               0|\n",
      "|Antigua and Barbuda|female|55-74 years|               1|\n",
      "|Antigua and Barbuda|female|  75+ years|               0|\n",
      "|Antigua and Barbuda|  male|15-24 years|               0|\n",
      "|Antigua and Barbuda|  male|25-34 years|               1|\n",
      "+-------------------+------+-----------+----------------+\n",
      "only showing top 20 rows\n",
      "\n"
     ]
    }
   ],
   "source": [
    "#pero ahora vamos a agrupar por país, sexo y rando \n",
    "df.groupBy('country', 'sex', 'age').sum('suicides_no').show()"
   ]
  },
  {
   "cell_type": "code",
   "execution_count": 36,
   "metadata": {
    "colab": {},
    "colab_type": "code",
    "id": "HTw97Eq3hbIQ"
   },
   "outputs": [
    {
     "name": "stdout",
     "output_type": "stream",
     "text": [
      "+--------------------+--------------------+\n",
      "|             country|    avg(suicides_no)|\n",
      "+--------------------+--------------------+\n",
      "|             Albania|   7.462121212121212|\n",
      "| Antigua and Barbuda|0.033950617283950615|\n",
      "|           Argentina|   221.0188172043011|\n",
      "|             Armenia|    6.39261744966443|\n",
      "|               Aruba|  0.6011904761904762|\n",
      "|           Australia|  194.75277777777777|\n",
      "|             Austria|  131.08115183246073|\n",
      "|          Azerbaijan|               8.625|\n",
      "|             Bahamas| 0.33695652173913043|\n",
      "|             Bahrain|  1.8373015873015872|\n",
      "|            Barbados|                0.59|\n",
      "|             Belarus|  237.66666666666666|\n",
      "|             Belgium|  168.71236559139786|\n",
      "|              Belize|  1.0357142857142858|\n",
      "|Bosnia and Herzeg...|               13.25|\n",
      "|              Brazil|   609.1747311827957|\n",
      "|            Bulgaria|  101.07777777777778|\n",
      "|          Cabo Verde|                 3.5|\n",
      "|              Canada|   309.0833333333333|\n",
      "|               Chile|  109.93279569892474|\n",
      "+--------------------+--------------------+\n",
      "only showing top 20 rows\n",
      "\n"
     ]
    }
   ],
   "source": [
    "# analizar valores asociados a la columna coutry en forma de estadistica de media \n",
    "df.groupBy('country').agg(F.mean('suicides_no')).show() "
   ]
  }
 ],
 "metadata": {
  "colab": {
   "collapsed_sections": [],
   "name": "Tarea1_BigData_NataliaRojas.ipynb",
   "provenance": []
  },
  "kernelspec": {
   "display_name": "Python 3",
   "language": "python",
   "name": "python3"
  },
  "language_info": {
   "codemirror_mode": {
    "name": "ipython",
    "version": 3
   },
   "file_extension": ".py",
   "mimetype": "text/x-python",
   "name": "python",
   "nbconvert_exporter": "python",
   "pygments_lexer": "ipython3",
   "version": "3.7.5"
  }
 },
 "nbformat": 4,
 "nbformat_minor": 1
}
